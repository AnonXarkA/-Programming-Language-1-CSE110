{
 "cells": [
  {
   "cell_type": "markdown",
   "metadata": {
    "colab_type": "text",
    "id": "ZXvFDb3VLf5p"
   },
   "source": [
    "# CSE110 Assignment 6\n",
    "This assignment is to guide you to solve everything you have learned so far by implementing Exceptions in Python. \n",
    "\n",
    "**<font color='red'>[MUST MAINTAIN VARIABLE NAMING CONVENTIONS FOR ALL THE TASKS]</font>**\n",
    "\n",
    "## Write the Python code of the following problems:\n"
   ]
  },
  {
   "cell_type": "markdown",
   "metadata": {
    "colab_type": "text",
    "id": "tZow-v3MLoLE"
   },
   "source": [
    "### Task 1\n",
    "Given a list named my_list.\n",
    "my_list=[10,20,30,40,60,100,2,5]\n",
    "\n",
    "Write a python program that takes the position as an input from the user and prints the element of that position from the list. \n",
    "\n",
    "If the user’s input position is not in the range, return an exception stating “Index out of range”.\n",
    "\n",
    "Make sure your program always prints “Program ended” at the end, no matter what happens.\n",
    "\n",
    "Hint: Use finally block\n",
    "\n",
    "**Example 1:** \\\n",
    "**Input:**\\\n",
    "1\\\n",
    "**Output:**\\\n",
    "20\\\n",
    "Program ended\n",
    "\n",
    "=============================\n",
    "\n",
    "**Example 2:** \\\n",
    "**Input:**\\\n",
    "10\\\n",
    "**Output:**\\\n",
    "Index out of range.\\\n",
    "Program ended\n"
   ]
  },
  {
   "cell_type": "code",
   "execution_count": 1,
   "metadata": {
    "colab": {},
    "colab_type": "code",
    "id": "c9yKuS5kLdDO"
   },
   "outputs": [
    {
     "name": "stdout",
     "output_type": "stream",
     "text": [
      "Enter position: 10\n",
      "Index out of range\n",
      "Program ended\n"
     ]
    }
   ],
   "source": [
    "#To do\n",
    "position = int(input(\"Enter position: \"))\n",
    "my_list=[10,20,30,40,60,100,2,5]\n",
    "try:\n",
    "\n",
    "    result = my_list[position]\n",
    "\n",
    "    if position < len(my_list):\n",
    "        print(result)\n",
    "\n",
    "except Exception:\n",
    "    print('Index out of range')\n",
    "\n",
    "finally:\n",
    "    print(\"Program ended\")"
   ]
  },
  {
   "cell_type": "markdown",
   "metadata": {
    "colab_type": "text",
    "id": "gD4MMyO_Mtw4"
   },
   "source": [
    "### Task 2\n",
    "\n",
    "Suppose you have a dictionary named my_dictionary containing the name of some groceries and their prices.\\\n",
    "my_dictionary={“Potato”:12, “Onion”:16, “Ginger”:15, “Garlic”:12, “Tomato:”:15}\n",
    "\n",
    "Now write a python program that takes the grocerie names as input from the users and shows the total price of the groceries.\n",
    "\n",
    "Some exceptions to handle:\n",
    "* Handle the exception when the given key is not present in the dictionary.\n",
    "* Handle the exception when the summation variable is not initialized.\n",
    "\n",
    "**Example 1:** \\\n",
    "**Input:**\\\n",
    "Potato,Onion,Ginger\\\n",
    "**Output:**\\\n",
    "43\n",
    "\n",
    "=============================\n",
    "\n",
    "**Example 2:** \\\n",
    "**Input:**\\\n",
    "Potato,Onion,Ginger,Beef\\\n",
    "**Output:**\\\n",
    "Some groceries are not available in the dictionary.\n"
   ]
  },
  {
   "cell_type": "code",
   "execution_count": 2,
   "metadata": {
    "colab": {},
    "colab_type": "code",
    "id": "15umlUXTNe5N"
   },
   "outputs": [
    {
     "name": "stdout",
     "output_type": "stream",
     "text": [
      "Enter num of items: 3\n",
      "Enter items: Potato\n",
      "Enter items: Onion\n",
      "Enter items: Ginger\n",
      "43\n"
     ]
    }
   ],
   "source": [
    "#To do\n",
    "\n",
    "my_dictionary={'Potato':12, 'Onion':16, 'Ginger':15, 'Garlic':12, 'Tomato':15}\n",
    "list_items = []\n",
    "num_items = int(input(\"Enter num of items: \"))\n",
    "for val in range(num_items):\n",
    "    item = input(\"Enter items: \")\n",
    "    list_items.append(item)\n",
    "try:\n",
    "    sum = 0\n",
    "    for items in list_items:\n",
    "        groceries = my_dictionary[items]\n",
    "        sum += groceries\n",
    "    print(sum)\n",
    "except KeyError:\n",
    "    print(\"Some groceries are not available in the dictionary.\")\n",
    "except NameError:\n",
    "    print(\"variable is not initialized\")\n"
   ]
  },
  {
   "cell_type": "markdown",
   "metadata": {
    "colab_type": "text",
    "id": "l5SgF6kTN7vY"
   },
   "source": [
    "### Task 3\n",
    "Write a python program that takes two lists as input from the user, multiplies the index wise elements of the two lists and adds it to a new variable. While doing the program you should handle the following exceptions:\n",
    "* Return an exception when the new variable is not declared stating “The new variable is not declared”.\n",
    "* Return an exception if an element in a list is not a number stating “The list has some non number values”.\n",
    "* Return an exception if there is an index out of bound stating “Index out of bound”.\n",
    "\n",
    "**Example 1:** \\\n",
    "**Input:**\\\n",
    "list_one = [1, a, 2, 4]\\\n",
    "List_two =[5, 6, 7, 8]\\\n",
    "**Output:**\\\n",
    "The list has some non number values\n",
    "\n",
    "=================\n",
    "\n",
    "**Example 2:** \\\n",
    "**Input:**\\\n",
    "list_one=[1, 2, 3, 4, 5]\\\n",
    "list_two=[1, 2, 3, 4]\\\n",
    "**Output:**\\\n",
    "Index out of bound\n",
    "\n",
    "=================\n",
    "\n",
    "**Example 3:** \\\n",
    "**Input:**\\\n",
    "list_one=[1,2,3,4]\\\n",
    "list_two=[5,6,7,8]\\\n",
    "**Output:**\\\n",
    "70\n",
    "\n",
    "\n"
   ]
  },
  {
   "cell_type": "code",
   "execution_count": 3,
   "metadata": {
    "colab": {},
    "colab_type": "code",
    "id": "oFpEZFRhOlvV"
   },
   "outputs": [
    {
     "name": "stdout",
     "output_type": "stream",
     "text": [
      "Enter list 1 len: 5\n",
      "Enter value: 1\n",
      "Enter value: 2\n",
      "Enter value: 3\n",
      "Enter value: 4\n",
      "Enter value: 5\n",
      "Enter list 2 len : 4\n",
      "Enter value: 1\n",
      "Enter value: 2\n",
      "Enter value: 3\n",
      "Enter value: 4\n",
      "Index out of bound\n"
     ]
    }
   ],
   "source": [
    "#To do\n",
    "try:\n",
    "    list_one = []\n",
    "    list_two = []\n",
    "    ab = []\n",
    "    list_one_len = int(input(\"Enter list 1 len: \"))\n",
    "    for num in range(list_one_len):\n",
    "        val1 = input(\"Enter value: \")\n",
    "        list_one.append(val1)\n",
    "    list_two_len = int(input(\"Enter list 2 len : \"))\n",
    "    for num1 in range(list_two_len):\n",
    "        val2 = input(\"Enter value: \")\n",
    "        list_two.append(val2)\n",
    "    for value in range(0, len(list_one)):\n",
    "        ab.append(int(list_one[value]) * int(list_two[value]))\n",
    "    sumation = sum(ab)\n",
    "    print(sumation)\n",
    "except NameError:\n",
    "    print(\"The new variable is not declared\")\n",
    "\n",
    "except ValueError:\n",
    "    print(\"The list has some non number values\")\n",
    "except IndexError:\n",
    "    print(\"Index out of bound\")\n"
   ]
  },
  {
   "cell_type": "markdown",
   "metadata": {
    "colab_type": "text",
    "id": "iBqIUN-WOnvW"
   },
   "source": [
    "### Task 4\n",
    "Write a python program that will take a string input from the user. Your task is to count the number of vowels and consonants in the string.\n",
    "\n",
    "Using try, if the number of vowels is greater than or equal to the number of consonants than raise a runtime error. Print 'Number of vowels greater/equal to consonants. Please, paraphrase'.\\\n",
    "Otherwise, print 'The sentence will work'. \n",
    "\n",
    "**Note:** a,e,i,o,u are called vowels and all the other 21 english alphabets are consonants.\n",
    "\n",
    "**Example 1:** \\\n",
    "**Input:**\\\n",
    "'his age is 10'\\\n",
    "**Output:**\\\n",
    "Number of vowels is greater/equal. Paraphrase the sentence\n",
    "\n",
    "=================\n",
    "\n",
    "**Example 2:** \\\n",
    "**Input:**\\\n",
    "'he is 10 years old'\\\n",
    "**Output:**\\\n",
    "The sentence will work"
   ]
  },
  {
   "cell_type": "code",
   "execution_count": 1,
   "metadata": {
    "colab": {},
    "colab_type": "code",
    "id": "-4kg2W2EPwVo"
   },
   "outputs": [
    {
     "name": "stdout",
     "output_type": "stream",
     "text": [
      "Enter string: his age is 10\n",
      "Number of vowels is greater/equal. Paraphrase the sentence\n"
     ]
    }
   ],
   "source": [
    "#To do\n",
    "\n",
    "in_put = input(\"Enter string: \")\n",
    "string = in_put.lower()\n",
    "new_list1 =[]\n",
    "new_list2= []\n",
    "try:\n",
    "    for word in string:\n",
    "        asci = ord(word)\n",
    "        if asci >= 97 and asci <= 122:\n",
    "            if asci == 97 or asci == 101 or asci ==105 or asci == 111 or asci == 117:\n",
    "                new_list1.append(word)\n",
    "            else:\n",
    "                new_list2.append(word)\n",
    "    fisrtlist = len(new_list1)\n",
    "    secondlist = len(new_list2)\n",
    "    if fisrtlist >= secondlist :\n",
    "        raise RuntimeError\n",
    "\n",
    "except RuntimeError:\n",
    "    print(\"Number of vowels is greater/equal. Paraphrase the sentence\")\n",
    "else:\n",
    "    print('The sentence will work')"
   ]
  },
  {
   "cell_type": "markdown",
   "metadata": {
    "colab_type": "text",
    "id": "pl4CDeUkPxeM"
   },
   "source": [
    "### Task 5\n",
    "Write a python program that finds the corresponding energy values from a list of frequency values which are taken as input from the user, using the formula, $E=h*f$, where h is a constant of value: 1050\n",
    "\n",
    "Exceptions to handle:\n",
    "* Make sure all elements in the lists are numbers\n",
    "\n",
    "\n",
    "**Example 1:** \\\n",
    "**Input:**\\\n",
    "[$2$,$3$]\\\n",
    "**Output:**\\\n",
    "[$2100$, $3150$]\n",
    "\n",
    "=================\n",
    "\n",
    "**Example 2:** \\\n",
    "**Input:**\\\n",
    "[2,boss]\\\n",
    "**Output:**\\\n",
    "Wrong input type"
   ]
  },
  {
   "cell_type": "code",
   "execution_count": 3,
   "metadata": {
    "colab": {},
    "colab_type": "code",
    "id": "vdYQH9qnQvVo"
   },
   "outputs": [
    {
     "name": "stdout",
     "output_type": "stream",
     "text": [
      "How many value: 2\n",
      "Enter values: 2\n",
      "Enter values: 3\n",
      "[2100, 3150]\n"
     ]
    }
   ],
   "source": [
    "#To do\n",
    "\n",
    "try:\n",
    "    newList1 =[]\n",
    "    newList2 =[]\n",
    "    in_put = int(input(\"How many value: \"))\n",
    "    for num in range(in_put):\n",
    "        value = int(input(\"Enter values: \"))\n",
    "        newList1.append(value)\n",
    "    for f in newList1:\n",
    "        E = f*1050\n",
    "        newList2.append(E)\n",
    "    print(newList2)\n",
    "except Exception:\n",
    "    print(\"Wrong input type\")"
   ]
  },
  {
   "cell_type": "markdown",
   "metadata": {
    "colab_type": "text",
    "id": "RdshPzpJRcsD"
   },
   "source": [
    "### Task 6\n",
    "Write a python function that will remove a given character from a sentence based on the starting and ending index of the sentence. In the place of the removed characters, add the count of the number of characters removed so far. For this program, you need to take 4 user inputs.\n",
    "* Sentence\n",
    "* Character to be removed\n",
    "* Starting index (inclusive)\n",
    "* Ending index (inclusive)\n",
    "\n",
    "Few exceptions to catch: \n",
    "* Name Error if a variable is not found. Print ‘Name Error: Variable not defined’\n",
    "* Value Error if the starting index and ending index is not an integer. Print ‘Value Error: Wrong input, please enter an integer value.’\n",
    "* Type Error when adding count in the new sentence. Print ‘Type Error: Cannot add integer value with string.’\n",
    "* Index Error if the starting and ending index is out of range. Print ‘Index Error: Index is outside the range of sentence length.’\n",
    "* For other exceptions, catch Exception. Print ‘Some other error occurred.’\n",
    "\n",
    "If no exception occurred, print the new string using else block. At the end using finally, print ‘The program execution is complete’.\n",
    "\n",
    "**Example 1:** \\\n",
    "**Input:**\\\n",
    "'my python programming book'\\\n",
    "'m'\\\n",
    "2\\\n",
    "20\\\n",
    "**Output:**\\\n",
    "my python progra12ing book\\\n",
    "The program execution is complete\n",
    "\n",
    "=================\n",
    "\n",
    "**Example 2:** \\\n",
    "**Input:**\\\n",
    "'my python programming book'\\\n",
    "'m'\\\n",
    "2.5\\\n",
    "20\\\n",
    "**Output:**\\\n",
    "Value Error: Wrong input, please enter an integer value.\\\n",
    "The program execution is complete\n",
    "\n",
    "=================\n",
    "\n",
    "**Example 3:** \\\n",
    "**Input:**\\\n",
    "'my python programming book'\\\n",
    "'m'\\\n",
    "2\\\n",
    "100\\\n",
    "**Output:**\\\n",
    "Index Error: Index is outside the range of sentence length.\\\n",
    "The program execution is complete\n"
   ]
  },
  {
   "cell_type": "code",
   "execution_count": 1,
   "metadata": {
    "colab": {},
    "colab_type": "code",
    "id": "bcU6dV5BSl7d"
   },
   "outputs": [
    {
     "name": "stdout",
     "output_type": "stream",
     "text": [
      "Enter sentence: my python programming book\n",
      "Enter Character: m\n",
      "Enter first index: 2\n",
      "Enter last index: 20\n",
      "my python progra12ing book\n",
      "The program execution is complete\n"
     ]
    }
   ],
   "source": [
    "#To do \n",
    "sentence = input(\"Enter sentence: \")\n",
    "character = input(\"Enter Character: \")\n",
    "start_string = input(\"Enter first index: \")\n",
    "end_string = input(\"Enter last index: \")\n",
    "\n",
    "try:\n",
    "    start = int(start_string)\n",
    "    end = int(end_string)\n",
    "\n",
    "    s_list = list(sentence)\n",
    "    count = 0\n",
    "\n",
    "    for val in range(start, end+1):\n",
    "        if s_list[val] == character:\n",
    "            count = count + 1\n",
    "            s_list[val] = count\n",
    "\n",
    "    # for ch in sentence_ls:\n",
    "    #     print(ch, end='')\n",
    "\n",
    "except NameError:\n",
    "    print('Name Error: Variable not defined')\n",
    "except(ValueError):\n",
    "    print('Value Error: Wrong input, please enter an integer value')\n",
    "except(TypeError):\n",
    "    print('Type Error: cannot add integer value with string')\n",
    "except(IndexError):\n",
    "    print('Index Error: Index is outside the range of sentence length')\n",
    "except Exception:\n",
    "    print('Some other error occurred')\n",
    "else:\n",
    "    for chr in s_list:\n",
    "        print(chr, end='')\n",
    "finally:\n",
    "    print('\\n'\"The program execution is complete\")"
   ]
  },
  {
   "cell_type": "markdown",
   "metadata": {
    "colab_type": "text",
    "id": "SjU5ufx8Snv3"
   },
   "source": [
    "### Task 7\n",
    "Read a **file** from the user which contains the  name and salary of employees. Convert that to a dictionary where the key is the name of each employee and value is the salary of that employee. Then find the total cost for the company that it needs to pay through employees’ salary. Print the dictionary and sum if no exception occurs.\n",
    "\n",
    "Exception to handle:\n",
    "* check whether file is actually there\n",
    "* Check whether the salary in each line is a number or not.\n",
    "* Raise error if there are extra numbers or names\n",
    "\n",
    "**Example 1:** \\\n",
    "**Input:**\\\n",
    "Saadat 100\\\n",
    "Farzad 200\\\n",
    "Atef 300\\\n",
    "**Output:**\\\n",
    "dict={Saadat : 100, Farzad : 200, Atef : 300}\\\n",
    "Sum = 600\n",
    "\n",
    "=================\n",
    "\n",
    "**Example 2:** \\\n",
    "**Input:**\\\n",
    "Saadat 100\\\n",
    "Farzad 200\\\n",
    "Atef 300\\\n",
    "John\\\n",
    "**Output:**\\\n",
    "Extra Statement\n"
   ]
  },
  {
   "cell_type": "code",
   "execution_count": 4,
   "metadata": {
    "colab": {},
    "colab_type": "code",
    "id": "SUxJ1iCXUAPg"
   },
   "outputs": [
    {
     "name": "stdout",
     "output_type": "stream",
     "text": [
      "File is missing\n"
     ]
    }
   ],
   "source": [
    "#To do\n",
    "try:\n",
    "    file = open('Salary.txt')\n",
    "    file_info = file.readlines()\n",
    "    len_info = len(file_info)\n",
    "    list1 =[]\n",
    "    list2 = []\n",
    "    dict = {}\n",
    "    sum = 0\n",
    "    len_salary = 2\n",
    "    for num in range(len_info):\n",
    "        salary_info = file_info[num]\n",
    "        salary_i = salary_info.split()\n",
    "        lentgh_salary = len(salary_i)\n",
    "        if len_salary == lentgh_salary:\n",
    "            len_salary = lentgh_salary\n",
    "        else:\n",
    "            raise Exception\n",
    "    for num in range(len_info):\n",
    "        salary_info = file_info[num]\n",
    "        name,salary = salary_info.split()\n",
    "        list1.append(name)\n",
    "        list2.append(salary)\n",
    "    list1_len = len(list1)\n",
    "    list2_len = len(list2)\n",
    "\n",
    "    for num in range(list2_len):\n",
    "        number = int(list2[num])\n",
    "        sum += number\n",
    "    for num in range(list1_len):\n",
    "        dict[list1[num]] = list2[num]\n",
    "\n",
    "    file.close()\n",
    "except ValueError:\n",
    "    print(\"String as Salary not acceptable\")\n",
    "except FileNotFoundError:\n",
    "    print(\"File is missing\")\n",
    "except Exception:\n",
    "    print(\"Extra Statement\")\n",
    "else:\n",
    "    print(dict)\n",
    "    print(sum)"
   ]
  },
  {
   "cell_type": "markdown",
   "metadata": {
    "colab_type": "text",
    "id": "GC6Y943uUNHY"
   },
   "source": [
    "### Task 8\n",
    "Imagine Salman Khan is going to the sets of a new movie. He decides to cycle everyday on his way to the sets. For that he uses a distance calculator which finds the distance based on the present day's date, which is asked as an input from the user. You should first take the day and then the month as your inputs.\n",
    "The inputs should be stored in variables named `day` and `month` The distance calculator uses the following formulae to calculate a number which dictates the number of kilometers he must cycle on his way to work.\n",
    "\n",
    "Exceptions to handle:\\\n",
    "-Check for 0 division error exception\\\n",
    "-Type error exception when taking date as input\\\n",
    "-Value error exception, as day can not be greater than 31 and month can not be greater than 12\n",
    "\n",
    "\n",
    "\n",
    "\n",
    "\n",
    "\n",
    "\n",
    "\n",
    "\n",
    "\n",
    "\n",
    "\n",
    "\n",
    "\n",
    "Distance = |if day<10, `5+(day*2)/month`\\\n",
    "&nbsp;&nbsp;&nbsp;&nbsp;&nbsp;&nbsp;&nbsp;&nbsp;&nbsp;&nbsp;&nbsp;&nbsp;&nbsp;&nbsp;&nbsp;&nbsp;&nbsp;&nbsp;&nbsp; |else, `3+(day/month)`\n",
    "\n",
    "\n",
    "**Example 1:** \\\n",
    "**Input:**\\\n",
    "3\\\n",
    "5\\\n",
    "**Output:**\\\n",
    "6.2 kilometres\n",
    "\n",
    "=================\n",
    "\n",
    "**Example 2:** \\\n",
    "**Input:**\\\n",
    "2\\\n",
    "0\\\n",
    "**Output:**\\\n",
    "0 is not a valid month\n",
    "\n",
    "**Example 3:** \\\n",
    "**Input:**\\\n",
    "35\\\n",
    "12\\\n",
    "**Output:**\\\n",
    "35 is not a valid day of any month\n",
    "\n",
    "\n",
    "**Example 4:** \\\n",
    "**Input:**\\\n",
    "Hello\\\n",
    "12\\\n",
    "**Output:**\\\n",
    "Please do not enter any string as input\n",
    "\n",
    "\n",
    "**Example 5:** \\\n",
    "**Input:**\\\n",
    "15\\\n",
    "12\\\n",
    "**Output:**\\\n",
    "4.25 kilometres\n",
    "\n",
    "\n",
    "\n",
    "\n"
   ]
  },
  {
   "cell_type": "code",
   "execution_count": 5,
   "metadata": {
    "colab": {},
    "colab_type": "code",
    "id": "fg9mQUaEWH7a"
   },
   "outputs": [
    {
     "name": "stdout",
     "output_type": "stream",
     "text": [
      "Enter days number: hello\n",
      "Enter month number: 12\n",
      "Please do not enter any string as input\n"
     ]
    }
   ],
   "source": [
    "#To do\n",
    "try:\n",
    "    days = input(\"Enter days number: \")\n",
    "    months = input(\"Enter month number: \")\n",
    "\n",
    "    try:\n",
    "        day = int(days)\n",
    "        month = int(months)\n",
    "        try:\n",
    "            if day <= 31 :\n",
    "                pass\n",
    "            else:\n",
    "                raise ValueError\n",
    "        except ValueError:\n",
    "            print(day,\"is not a valid day of any month \")\n",
    "        try:\n",
    "            if month <= 12:\n",
    "                pass\n",
    "            else:\n",
    "                raise ValueError\n",
    "        except ValueError:\n",
    "            print(month,\"is not any month\")\n",
    "        try:\n",
    "            distance = 0\n",
    "            if day <= 31 and month <= 12:\n",
    "                if day<10:\n",
    "                    distance = 5+(day*2)/month\n",
    "                    print(distance,\"kilometres\")\n",
    "                else:\n",
    "                    distance = 3+(day/month)\n",
    "                    print(distance,\"kilometres\")\n",
    "            else:\n",
    "                pass\n",
    "        except ZeroDivisionError:\n",
    "            print(month,\"is not a valid month\")\n",
    "    except ValueError:\n",
    "        raise TypeError\n",
    "except TypeError:\n",
    "    print(\"Please do not enter any string as input\")"
   ]
  },
  {
   "cell_type": "markdown",
   "metadata": {
    "colab_type": "text",
    "id": "2Xzq6xJNWvbf"
   },
   "source": [
    "### Task 9\n",
    "Write a python program to make a calculator. The user must input a string consisting of a number, operator and another number separated by white spaces.\n",
    "* If the user’s input does not contain 3 elements, raise an exception error stating “Input does not contain 3 elements/Wrong operator”.\n",
    "* If the user inputs any other values except numbers in first and third position of the input, raise value error exception stating “Input does not contain numbers.” \n",
    "* If the user does not input ‘+’ or ‘-’ or ’/’ or ‘*’ or ‘%’ in second position of the input, again raise an exception stating “Input does not contain 3 elements/Wrong operator”.\n",
    "* In case of division, also handle divide by zero exception.\n",
    "\n",
    "If all the inputs are correct, calculate the result and print the value.\n",
    "\n",
    "**Example 1:** \\\n",
    "**Input:**\\\n",
    "1 + 1 + 1\\\n",
    "**Output:**\\\n",
    "Input does not contain 3 elements/Wrong operator\n",
    "\n",
    "=================\n",
    "\n",
    "**Example 2:** \\\n",
    "**Input:**\\\n",
    "A * B\\\n",
    "**Output:**\\\n",
    "Input does not contain numbers.\n",
    "\n",
    "=================\n",
    "\n",
    "**Example 3:** \\\n",
    "**Input:**\\\n",
    "1 $ 3\\\n",
    "**Output:**\\\n",
    "Input does not contain 3 elements/Wrong operator\n",
    "\n",
    "=================\n",
    "\n",
    "**Example 4:** \\\n",
    "**Input:**\\\n",
    "1 + 1\\\n",
    "**Output:**\\\n",
    "The answer is : 2\n"
   ]
  },
  {
   "cell_type": "code",
   "execution_count": 3,
   "metadata": {
    "colab": {},
    "colab_type": "code",
    "id": "vX2d7DiVXbhc"
   },
   "outputs": [
    {
     "name": "stdout",
     "output_type": "stream",
     "text": [
      "Enter: 1 + 1 + 1\n",
      "Input does not contain 3 elements/Wrong operator\n"
     ]
    }
   ],
   "source": [
    "string = input(\"Enter: \")\n",
    "try:\n",
    "\n",
    "    if  string[2] == '+' or string[2] == '-' or string[2] == '*' or string[2] == '/' or string[2] == '%':\n",
    "        pass\n",
    "    else:\n",
    "        raise Exception\n",
    "except Exception:\n",
    "    print(\"Input does not contain 3 elements/Wrong operator\")\n",
    "try:\n",
    "    if len(string) == 5 :\n",
    "        pass\n",
    "    else:\n",
    "        raise Exception\n",
    "except Exception:\n",
    "    print(\"Input does not contain 3 elements/Wrong operator\")\n",
    "try:\n",
    "    if len(string)<=5:\n",
    "        firstval = int(string[0])\n",
    "        secondval = int(string[4])\n",
    "        if string[2] == '+':\n",
    "            print(firstval+secondval)\n",
    "        elif string[2] == '-':\n",
    "            print(firstval-secondval)\n",
    "        elif string[2] == '*':\n",
    "            print(firstval*secondval)\n",
    "        elif string[2] == '/':\n",
    "            print(firstval/secondval)\n",
    "        elif string[2] == '%':\n",
    "            print(firstval%secondval)\n",
    "except ValueError:\n",
    "    print(\"Input does not contain numbers.\")\n",
    "except ZeroDivisionError:\n",
    "    print(\"Cannot Divided by zero\")\n",
    "\n",
    "# AnonXarkA"
   ]
  },
  {
   "cell_type": "code",
   "execution_count": null,
   "metadata": {},
   "outputs": [],
   "source": []
  }
 ],
 "metadata": {
  "colab": {
   "collapsed_sections": [],
   "name": "CSE110 Assignment06.ipynb",
   "provenance": []
  },
  "kernelspec": {
   "display_name": "Python 3",
   "language": "python",
   "name": "python3"
  },
  "language_info": {
   "codemirror_mode": {
    "name": "ipython",
    "version": 3
   },
   "file_extension": ".py",
   "mimetype": "text/x-python",
   "name": "python",
   "nbconvert_exporter": "python",
   "pygments_lexer": "ipython3",
   "version": "3.8.8"
  }
 },
 "nbformat": 4,
 "nbformat_minor": 1
}
