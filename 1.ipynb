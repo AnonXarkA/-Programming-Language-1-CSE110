{
 "cells": [
  {
   "cell_type": "markdown",
   "metadata": {
    "colab_type": "text",
    "id": "0ZcT5c9CjT8P"
   },
   "source": [
    "# SUMMER 2020\n",
    "\n",
    "# CSE110 MID\n",
    "**<font color='red'>[MUST MAINTAIN VARIABLE NAMING CONVENTIONS FOR ALL THE TASKS]</font>**\n",
    "\n",
    "**<font color='red'>[Writing comments(explanatory sentences) in any of the code is completely optional]</font>**"
   ]
  },
  {
   "cell_type": "markdown",
   "metadata": {
    "colab_type": "text",
    "id": "hQCnOmw6iWER"
   },
   "source": [
    "# Task 01\n",
    "Mrs. Mishti regularly orders from her local cake shop. She is very fond of their fruit and cheesecakes. Depending on her total bill amount, the shop offers her a discount. The price of one fruit cake is **150** taka and the price of one cheese-cake is **100** taka. The table below shows the discount she will get on her total amount.\n",
    "\n",
    "\n",
    "\n",
    "|Total Amount (TK)|Discount (TK)|\n",
    "|------|------|\n",
    "|0 - 250|No Discount|\n",
    "|251 - 599|35|\n",
    "|600 - 849 |80|\n",
    "|850 - 999|100|\n",
    "|>= 1000|150|\n",
    "\n",
    "Write a python program that takes two inputs from the user. The first input will be the number of fruit cakes and the second input will be the number of cheese-cakes. Based on the price of items, calculate the total amount that Mrs. Mishti will have to pay.   \n",
    "\n",
    " ================================\n",
    "\n",
    "\n",
    "**Sample input(1):**\\\n",
    "0\\\n",
    "2\n",
    "\n",
    "\n",
    "**Sample Output(1):**\\\n",
    "Previous total: 200\\\n",
    "New total after discount: 200\n",
    "\n",
    "\n",
    "*Explanation(1): 0 * 150 + 2 * 100= 200Tk was her bill without discount.  For 200Tk, the discount amount is 0Tk. So, her new bill with a discount is (200-0)= 200Tk.*\n",
    "\n",
    "================================\n",
    "\n",
    "**Sample input 2:**\\\n",
    "10\\\n",
    "5\n",
    "\n",
    "\n",
    "**Sample output 2:**\\\n",
    "Previous total: 2000\\\n",
    "New total after discount: 1850\n",
    "\n",
    "\n",
    "\n",
    "*Explanation(2):   10 * 150 + 5 * 100= 2000Tk was her bill without discount.  For 2000Tk, the discount amount is 150Tk. So, her new bill with a discount is (2000-150)= 1850Tk.*\n",
    "\n",
    "\n",
    "\n",
    "\n"
   ]
  },
  {
   "cell_type": "code",
   "execution_count": 1,
   "metadata": {
    "colab": {},
    "colab_type": "code",
    "id": "P0vIwmbeiWEU"
   },
   "outputs": [
    {
     "name": "stdout",
     "output_type": "stream",
     "text": [
      "enter fruit cake num: 10\n",
      "enter cheese cake num: 5\n",
      "her new bill with a discount is 1850\n"
     ]
    }
   ],
   "source": [
    "#task 1\n",
    "#to do\n",
    "\n",
    "num_fruitecake = int(input(\"enter fruit cake num: \"))\n",
    "num_cheesecake = int(input(\"enter cheese cake num: \"))\n",
    "\n",
    "total_value = (num_fruitecake*150) + (num_cheesecake*100)\n",
    "\n",
    "if total_value >= 0 and total_value <= 250:\n",
    "    final_value = total_value - 0\n",
    "elif total_value >= 251 and total_value <= 599:\n",
    "    final_value = total_value - 35\n",
    "elif total_value >= 600 and total_value <= 849:\n",
    "    final_value = total_value - 80\n",
    "elif total_value >= 850 and total_value <= 999:\n",
    "    final_value = total_value - 100\n",
    "elif total_value >= 100:\n",
    "    final_value = total_value - 150\n",
    "\n",
    "print('her new bill with a discount is',final_value)"
   ]
  },
  {
   "cell_type": "markdown",
   "metadata": {
    "colab_type": "text",
    "id": "zUyYKkWViWEd"
   },
   "source": [
    "# Task 02\n",
    "Write a Python program that takes an input from the user and count how many **\"5\"** are present in the input.\n",
    "\n",
    "\n",
    " **<font color='red'>[You cannot use the count() function]</font>**\n",
    "\n",
    "\n",
    " \n",
    "  ================================\n",
    " \n",
    "**Sample input 1:**\\\n",
    "59555555 \\\n",
    "**Sample output 1:**\\\n",
    "7\n",
    " \n",
    "  ================================\n",
    "\n",
    "**Sample input 2:**\\\n",
    "81103212 \\\n",
    "**Sample output 2:**\\\n",
    "0"
   ]
  },
  {
   "cell_type": "code",
   "execution_count": 2,
   "metadata": {
    "colab": {},
    "colab_type": "code",
    "id": "_oEJ6XwgiWEh"
   },
   "outputs": [
    {
     "name": "stdout",
     "output_type": "stream",
     "text": [
      "enter input num: 59555555\n",
      "7\n"
     ]
    }
   ],
   "source": [
    "#task 2\n",
    "#to do\n",
    "\n",
    "user = int(input(\"enter input num: \"))\n",
    "count = 0\n",
    "for num in str(user):\n",
    "    value = int(num)\n",
    "    if value  == 5:\n",
    "        count = count+1\n",
    "print(count)"
   ]
  },
  {
   "cell_type": "markdown",
   "metadata": {
    "colab_type": "text",
    "id": "CEhXrQIhiWEo"
   },
   "source": [
    "# Task 03\n",
    "Write a python program which takes **6** numbers as an input from the user using loops and store those values in a list. Then, your program should swap the first and last values of the list if they are different. However, if these two values are the same, then they will not be swapped. Lastly, your program should print all the elements of the final list.\n",
    "\n",
    "\n",
    " \n",
    "  ================================\n",
    " \n",
    "**Sample input 1:**\\\n",
    "1, 2, 3, 5, 1, 4\\\n",
    "**Sample output 1:**\\\n",
    " 4, 2, 3, 5, 1, 1\\\n",
    " \\\n",
    "\n",
    " *Explanation: first number in list = 1, last number in list = 4, first number and last number are different so we swap them, thus first number in list now becomes 4 and last number in the list becomes 1 which is what we see when we print the final list*\n",
    " \n",
    "  ================================\n",
    "\n",
    "**Sample input 2:**\\\n",
    "1, 2, 3, 2, 2, 1\\\n",
    "**Sample output 2:**\\\n",
    "1, 2, 3, 2, 2, 1\\\n",
    "\\\n",
    "*Explanation: first number in list = 1, last number in list = 1, first number and last number are same so no need to swap them, thus the final list is as it is when we print it*\n"
   ]
  },
  {
   "cell_type": "code",
   "execution_count": 4,
   "metadata": {
    "colab": {},
    "colab_type": "code",
    "id": "gWQIR06LiWEp"
   },
   "outputs": [
    {
     "name": "stdout",
     "output_type": "stream",
     "text": [
      "enter: 1\n",
      "enter: 2\n",
      "enter: 3\n",
      "enter: 5\n",
      "enter: 1\n",
      "enter: 4\n",
      "[4, 2, 3, 5, 1, 1]\n"
     ]
    }
   ],
   "source": [
    "#task 3\n",
    "#to do\n",
    "\n",
    "\n",
    "\n",
    "list1 = []\n",
    "list2 = []\n",
    "for num in range(6):\n",
    "    number = int(input(\"enter: \"))\n",
    "    list1.append(number)\n",
    "value1 = list1[0]\n",
    "value2 = list1[-1]\n",
    "\n",
    "if value1 != value2:\n",
    "    list2=list1\n",
    "    list2[0] = value2\n",
    "    list2[-1] = value1\n",
    "    print(list2)\n",
    "if value1==value2:\n",
    "    print(list1)\n",
    "\n",
    "\n",
    "    \n",
    "# AnonXarkA"
   ]
  },
  {
   "cell_type": "code",
   "execution_count": null,
   "metadata": {
    "colab": {},
    "colab_type": "code",
    "id": "dDpwG8ImNrFg"
   },
   "outputs": [],
   "source": []
  }
 ],
 "metadata": {
  "colab": {
   "collapsed_sections": [],
   "name": "set 07.ipynb",
   "provenance": []
  },
  "kernelspec": {
   "display_name": "Python 3",
   "language": "python",
   "name": "python3"
  },
  "language_info": {
   "codemirror_mode": {
    "name": "ipython",
    "version": 3
   },
   "file_extension": ".py",
   "mimetype": "text/x-python",
   "name": "python",
   "nbconvert_exporter": "python",
   "pygments_lexer": "ipython3",
   "version": "3.8.8"
  }
 },
 "nbformat": 4,
 "nbformat_minor": 1
}
