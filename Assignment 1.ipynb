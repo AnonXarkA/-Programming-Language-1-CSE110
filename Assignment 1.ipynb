{
 "cells": [
  {
   "cell_type": "markdown",
   "metadata": {},
   "source": [
    "# CSE110 Assignment 1\n",
    "\n",
    "This assignment is to guide you to solve basic programming problems in Python. Since this is the first assignment, the first problem is solved for you with explanations. Some problems are partially solved to help you. Go through them, try to understand and question each statment of the following questions and codes. If you can understand the problems and the solutions, solving more difficult problems would not seem so difficult. \n",
    "\n",
    "## Write the Python code of the following problems:\n"
   ]
  },
  {
   "cell_type": "markdown",
   "metadata": {},
   "source": [
    "### Task 1\n",
    "\n",
    "Write Python code of a program that reads two numbers from the user, and prints their sum, product, and difference.\n",
    "\n",
    "\n",
    "*hint: Subtract the second number from the first one*\n",
    "\n",
    "For your explanation, the first question's code is done below. Try relating the block of code with the lesson you have learned and understand the significance of each line. You're most welcome to play around with the code. This will strengthen your understanding.\n"
   ]
  },
  {
   "cell_type": "code",
   "execution_count": 8,
   "metadata": {},
   "outputs": [],
   "source": [
    "# Teke input of 2 numbers\n",
    "var_1 = input('Please Enter Your First Number')\n",
    "var_2 = input('Please Enter Your Second Number')\n",
    "\n",
    "# Since these 2 inputs have a datatype of String, you should change them to integers to perform Mathematical Operations\n",
    "\n",
    "# First, let's clarify whether the inputs are actually Strings or not. \n",
    "\n",
    "print(type(var_1))\n",
    "print(type(var_2))\n",
    "\n",
    "# Convert Strings to integer using int function\n",
    "\n",
    "var_3 = int(var_1)\n",
    "var_4 = int(var_2)\n",
    "\n",
    "# Perform Addition\n",
    "\n",
    "sum = var_3+var_4\n",
    "\n",
    "# Perform Multiplication \n",
    "\n",
    "product = var_3*var_4\n",
    "\n",
    "# Perform Substraction \n",
    "\n",
    "difference = var_4-var_3\n",
    "\n",
    "# Print all of these\n",
    "\n",
    "print(sum)\n",
    "print(product)\n",
    "print(difference)\n"
   ]
  },
  {
   "cell_type": "markdown",
   "metadata": {},
   "source": [
    "### Task 2\n",
    "\n",
    "Write Python code of a program that reads the radius of a circle and prints its circumference and area.\n",
    "\n",
    "*hint: import math and then use math.pi for getting the value of pi. \n",
    "For details read from https://docs.python.org/3/library/math.html*\n",
    "\n"
   ]
  },
  {
   "cell_type": "code",
   "execution_count": 33,
   "metadata": {},
   "outputs": [
    {
     "name": "stdout",
     "output_type": "stream",
     "text": [
      "Enter radius:  56\n",
      "Circumference =  351.85837720205683\n",
      "Area =  9852.03456165759\n"
     ]
    }
   ],
   "source": [
    "import math\n",
    "p = math.pi\n",
    "r = input(\"Enter radius:  \")\n",
    "rd = float(r)\n",
    "\n",
    "cc = 2*p*rd\n",
    "print(\"Circumference = \",cc)\n",
    "\n",
    "\n",
    "radius = p * rd**2\n",
    "print(\"Area = \",radius)\n",
    "\n",
    "\n",
    "\n",
    "\n"
   ]
  },
  {
   "cell_type": "markdown",
   "metadata": {},
   "source": [
    "### Task 3\n",
    "\n",
    "Write Python code of a program that reads two numbers from the user. Your program should then print “First is greater” if the first number is greater, “Second is greater” if the second number is greater, and “The numbers are equal” otherwise."
   ]
  },
  {
   "cell_type": "code",
   "execution_count": 34,
   "metadata": {},
   "outputs": [
    {
     "name": "stdout",
     "output_type": "stream",
     "text": [
      "Enter first num:  1\n",
      "Enter second num: 1\n",
      "The numbers are equal\n"
     ]
    }
   ],
   "source": [
    "x = input(\"Enter first num:  \")\n",
    "y = input(\"Enter second num: \")\n",
    "\n",
    "if x > y :\n",
    "    print(\"First is greater\")\n",
    "elif y>x :\n",
    "    print(\"Second is greater\")\n",
    "else:\n",
    "    print(\"The numbers are equal\")"
   ]
  },
  {
   "cell_type": "markdown",
   "metadata": {},
   "source": [
    "### Task 4\n",
    "\n",
    "Write Python code of a program that reads two numbers, subtracts the smaller number from the larger one, and prints the result.\n",
    "\n",
    "*hint: First check which number is greater*\n"
   ]
  },
  {
   "cell_type": "code",
   "execution_count": 4,
   "metadata": {},
   "outputs": [
    {
     "name": "stdout",
     "output_type": "stream",
     "text": [
      "Enter num: 50\n",
      "Enter num: 55\n",
      "55 is greater\n",
      "subtracts is:  5\n"
     ]
    }
   ],
   "source": [
    "x = int(input(\"Enter num: \"))\n",
    "y = int(input(\"Enter num: \"))\n",
    "\n",
    "if x > y:\n",
    "    print(f\"{x} is greater\")\n",
    "    x1 = x - y\n",
    "    print(\"subtracts is: \",x1)\n",
    "elif y > x:\n",
    "    print(f\"{y} is greater\")\n",
    "    x2 = y - x\n",
    "    print(\"subtracts is: \",x2)\n",
    "else:\n",
    "    print(\"both are same\")"
   ]
  },
  {
   "cell_type": "markdown",
   "metadata": {},
   "source": [
    "### Task 5\n",
    "\n",
    "Write Python code of a program that reads a number, and prints “The number is even” or “The number is odd”, depending on whether the number is even or odd. \n",
    "\n",
    "*hint: use the modulus (%) operator*\n"
   ]
  },
  {
   "cell_type": "code",
   "execution_count": 35,
   "metadata": {},
   "outputs": [
    {
     "name": "stdout",
     "output_type": "stream",
     "text": [
      "ENter num: 33\n",
      "The number is odd\n"
     ]
    }
   ],
   "source": [
    "x = int(input(\"ENter num: \"))\n",
    "\n",
    "if x % 2 == 0:\n",
    "    print(\"The number is even\")\n",
    "else:\n",
    "    print('The number is odd')"
   ]
  },
  {
   "cell_type": "markdown",
   "metadata": {},
   "source": [
    "### Task 6\n",
    "\n",
    "Write Python code of a program that reads an integer, and prints the integer if it is a multiple of **either 2 or 5.**\n",
    "\n",
    "For example, 2, 4, 5, 6, 8, 10, 12, 14, 15, 16, 18, 20, 22 …\n",
    "\n"
   ]
  },
  {
   "cell_type": "code",
   "execution_count": 22,
   "metadata": {},
   "outputs": [
    {
     "name": "stdout",
     "output_type": "stream",
     "text": [
      "Enter: 10\n",
      "10\n"
     ]
    }
   ],
   "source": [
    "x = int(input(\"Enter: \"))\n",
    "\n",
    "if  x % 2 == 0 or x % 5 == 0:\n",
    "    print(x)"
   ]
  },
  {
   "cell_type": "markdown",
   "metadata": {},
   "source": [
    "### Task 7\n",
    "Write Python code of a program that reads an integer, and prints the integer  it is a multiple of **either 2 or 5 but not both.** \n",
    "\n",
    "For example, 2, 4, 5, 6, 8, 12, 14, 15, 16, 18, 22 …\n"
   ]
  },
  {
   "cell_type": "code",
   "execution_count": 32,
   "metadata": {},
   "outputs": [
    {
     "name": "stdout",
     "output_type": "stream",
     "text": [
      "Enter: 15\n",
      "15\n"
     ]
    }
   ],
   "source": [
    "x = int(input(\"Enter: \"))\n",
    "\n",
    "if  not(x % 2 == 0 and x % 5 == 0):\n",
    "    if x % 2 == 0 or x %5==0 :\n",
    "        print(x)"
   ]
  },
  {
   "cell_type": "markdown",
   "metadata": {},
   "source": [
    "### Task 8\n",
    "Write Python code of a program that reads an integer, and prints the integer if it is a multiple of **2 and 5.**\n",
    "\n",
    "For example, 10, 20, 30, 40, 50 …\n",
    "\n"
   ]
  },
  {
   "cell_type": "code",
   "execution_count": 20,
   "metadata": {},
   "outputs": [
    {
     "name": "stdout",
     "output_type": "stream",
     "text": [
      "Enter: 60\n",
      "60\n"
     ]
    }
   ],
   "source": [
    "x = int(input(\"Enter: \"))\n",
    "\n",
    "if  x % 2 == 0 and x % 5 == 0:\n",
    "    print(x)"
   ]
  },
  {
   "cell_type": "markdown",
   "metadata": {},
   "source": [
    "### Task 9\n",
    "\n",
    "\n",
    "Write Python code of a program that reads an integer, and prints the integer if it is a multiple of **NEITHER 2 NOR 5.** \n",
    "\n",
    "For example, 1, 3, 7, 9, 11, 13, 17, 19, 21, 23, 27, 29, 31, 33, 37, 39 …\n"
   ]
  },
  {
   "cell_type": "code",
   "execution_count": 24,
   "metadata": {},
   "outputs": [
    {
     "name": "stdout",
     "output_type": "stream",
     "text": [
      "Enter: 99\n",
      "99\n"
     ]
    }
   ],
   "source": [
    "x = int(input(\"Enter: \"))\n",
    "\n",
    "if  x % 2 != 0 and x % 5 != 0:\n",
    "    print(x)"
   ]
  },
  {
   "cell_type": "markdown",
   "metadata": {},
   "source": [
    "### Task 10\n",
    "\n",
    "Write Python code of a program that reads an integer, and prints the integer if it is NOT a multiple of **2 OR NOT a multiple of 5.**\n",
    "\n",
    "For example, 1, 2, 3, 4, 5, 6, 7, 8, 9, 11, 12, 13, 14, 15, 16, 17, 18, 19, 21, 22\n"
   ]
  },
  {
   "cell_type": "code",
   "execution_count": 30,
   "metadata": {},
   "outputs": [
    {
     "name": "stdout",
     "output_type": "stream",
     "text": [
      "Enter: 70\n"
     ]
    }
   ],
   "source": [
    "x = int(input(\"Enter: \"))\n",
    "\n",
    "if  not(x % 2 == 0 and x % 5 == 0):\n",
    "    print(x)"
   ]
  },
  {
   "cell_type": "markdown",
   "metadata": {},
   "source": [
    "### Task 11\n",
    "\n",
    "Write Python code of a program that reads a student’s mark for a single subject, and prints out the corresponding grade for that mark. The mark ranges and corresponding grades are shown in the table below.\n",
    "\n",
    "*hint: This problem can be solved in two ways: top-down (starts from A) and bottom-up (starts from F)*\n",
    "\n",
    "\n",
    "| Marks | Grage|\n",
    "| --- | --- | \n",
    "|90 or above| A |\n",
    "|  |  | \n",
    "|80-89| B |\n",
    "|  |  | \n",
    "|70-79| C |\n",
    "|  |  | \n",
    "|60-69| D |\n",
    "|  |  | \n",
    "|50-59| E |\n",
    "|  |  | \n",
    "|Below 50| F |\n",
    "\n",
    "\n",
    "\n",
    "\n",
    "\n"
   ]
  },
  {
   "cell_type": "code",
   "execution_count": 19,
   "metadata": {},
   "outputs": [
    {
     "name": "stdout",
     "output_type": "stream",
     "text": [
      "Enter Marks:  50\n",
      "E\n"
     ]
    }
   ],
   "source": [
    "x = int(input(\"Enter Marks:  \"))\n",
    "\n",
    "if x >= 90:\n",
    "    print(\"A\")\n",
    "elif x >= 80:\n",
    "    print(\"B\")\n",
    "elif x >= 70:\n",
    "    print(\"C\")\n",
    "elif x >= 60:\n",
    "    print(\"D\")\n",
    "elif x >= 50:\n",
    "    print(\"E\")\n",
    "    \n",
    "else:\n",
    "    print(\"F\")\n",
    "\n",
    "\n",
    "\n",
    "\n",
    "\n"
   ]
  },
  {
   "cell_type": "markdown",
   "metadata": {},
   "source": [
    "### Task 12\n",
    "\n",
    "Write Python code of a program to compute and display a person’s weekly salary as determined by the following conditions:\n",
    "If the hours worked are less than or equal to 40, the person receives Tk200.00 per hour, else the person receives Tk8000.00 plus Tk300.00 for each hour worked over 40 hours.\n",
    "The program should request the hours worked as input and should display the salary as output.\n",
    "\n",
    "**example1:**\\\n",
    "Input: 100\\\n",
    "Output: 26000\n",
    "\n",
    "**example2:**\\\n",
    "Input: 30\\\n",
    "Output: 6000\n"
   ]
  },
  {
   "cell_type": "code",
   "execution_count": 26,
   "metadata": {},
   "outputs": [
    {
     "name": "stdout",
     "output_type": "stream",
     "text": [
      "Enter HOurs:  35\n",
      "7000\n"
     ]
    }
   ],
   "source": [
    "x = int(input(\"Enter HOurs:  \"))\n",
    "\n",
    "if x <= 40:\n",
    "    h1= x * 200\n",
    "    print(h1)\n",
    "else:\n",
    "    remain = x - 40\n",
    "    h2 = (remain * 300) + 8000    \n",
    "    print(h2)\n",
    "    \n",
    "  "
   ]
  },
  {
   "cell_type": "markdown",
   "metadata": {},
   "source": [
    "### Task 13\n",
    "Write Python code of a program that finds the number of hours, minutes, and seconds in a **given number of seconds.** \n",
    "\n",
    "**Example:**\\\n",
    "Input: 10000 seconds\\\n",
    "Output: 2 Hours 46 minutes, 40 seconds\n",
    "\n",
    "*hints: 1 hour = 60 mins = 3600 seconds*\\\n",
    "*1min = 60 seconds* \n",
    "\n",
    "\n",
    "\n",
    "\n"
   ]
  },
  {
   "cell_type": "code",
   "execution_count": 2,
   "metadata": {},
   "outputs": [
    {
     "name": "stdout",
     "output_type": "stream",
     "text": [
      "Enter seconds: 20000\n",
      "5 Hours 33 minutes, 20 seconds\n"
     ]
    }
   ],
   "source": [
    "x = int(input(\"Enter seconds: \"))\n",
    "\n",
    "h = x//3600\n",
    "c = x - (h*3600)\n",
    "m = c//60\n",
    "s = c - (m*60)\n",
    "\n",
    "\n",
    "print(f\"{h} Hours {m} minutes, {s} seconds\")"
   ]
  },
  {
   "cell_type": "markdown",
   "metadata": {},
   "source": [
    "### Task 14\n",
    "Suppose the following expressions are used to calculate the values of L for different values of S:\n",
    "\n",
    "$L =  3000-125S^2$ \n",
    "if     $S<100$\n",
    "\n",
    "$ c =  \\frac{12000}{4+S^2/14900}$\n",
    "if     $S\\geq100$\n",
    "\n",
    "Write a Python code of a program that reads a value of S and then calculates the value of L.\\\n",
    "\n",
    "For example:\\\n",
    "If S=3, L= 1875.\\\n",
    "If S=120, L= 2416.2162162162163\\\n",
    "\n",
    "\n",
    "*hints: You can import math and use math function for making squares math.pow(number, power)   Or you can simply write S**2.*"
   ]
  },
  {
   "cell_type": "code",
   "execution_count": 10,
   "metadata": {},
   "outputs": [
    {
     "name": "stdout",
     "output_type": "stream",
     "text": [
      "VAlue of S: 120\n",
      "L = 2416.2162162162163 \n"
     ]
    }
   ],
   "source": [
    "s = int(input(\"VAlue of S: \"))\n",
    "\n",
    "if s < 100:\n",
    "    l1 = 3000 - (125 * s**2)\n",
    "    print(f\"L = {l1}\")\n",
    "elif s >= 100:\n",
    "    d = 4 + (s**2 / 14900)\n",
    "    l2 = 12000 / d\n",
    "    \n",
    "    print(f\"L = {l2} \")\n"
   ]
  },
  {
   "cell_type": "markdown",
   "metadata": {},
   "source": [
    "### Task 15\n",
    "\n",
    "Take an hour from the user as input and tell it is time for which meal.\n",
    "\n",
    "•\tThe user will input the number in a 24-hour format. So, 14 means 2 pm, 3 means 3 am, 18 means 6 pm, etc.\\\n",
    "•\tValid inputs are 0 to 23. Inputs less than 0 or more than 23 are invalid in 24-hour clock.\\\n",
    "•\tAssume, Input will be whole numbers. For example, 3.5 will NOT be given as input.\n",
    "\n",
    "Inputs: Message to be printed\\\n",
    "4 to 6: Breakfast\\\n",
    "12 to 13: Lunch\\\n",
    "16 to 17: Snacks\\\n",
    "19 to 20: Dinner\\\n",
    "For all other valid inputs, say \"Patience is a virtue\"\\\n",
    "For all other invalid inputs, say \"Wrong time\"\n",
    "\n",
    "For example,\\\n",
    "If the user enters 4, your program should print the message \"Breakfast\".\\\n",
    "If the user enters 5, your program should print the message \"Breakfast\".\\\n",
    "If the user enters 6, your program should print the message \"Breakfast\".\\\n",
    "If the user enters 0, your program should print the message \"Patience is a virtue\".\\\n",
    "If the user enters 1, your program should print the message \"Patience is a virtue\".\\\n",
    "If the user enters 18, your program should print the message \"Patience is a virtue\".\\\n",
    "If the user enters 23, your program should print the message \"Patience is a virtue\".\\\n",
    "If the user enters 24, your program should print the message \"Wrong Time\".\\\n",
    "If the user enters -1, your program should print the message \"Wrong Time\".\\\n",
    "If the user enters 27, your program should print the message \"Wrong time\".\n",
    "\n",
    "Hints:\\\n",
    "You can use nested conditionals (if-else) or chained conditions (if-elif-else) to solve this problem.\n",
    "\n"
   ]
  },
  {
   "cell_type": "code",
   "execution_count": 2,
   "metadata": {},
   "outputs": [
    {
     "name": "stdout",
     "output_type": "stream",
     "text": [
      "Enter Hours: 5\n",
      "Breakfast\n"
     ]
    }
   ],
   "source": [
    "x = int(input(\"Enter Hours: \"))\n",
    "\n",
    "\n",
    "if x >= 4 and x<= 6:\n",
    "    print('Breakfast')\n",
    "elif x >= 12 and x <= 13:\n",
    "    print(\"Lunch\")\n",
    "elif x >= 16 and x<= 17 :\n",
    "    print(\"Snacks\")\n",
    "elif x >= 19 and x<= 20:\n",
    "    print('Dinner')\n",
    "elif x >= 24 or x < 0:\n",
    "    print(\"Wrong Time\")\n",
    "else:\n",
    "    print(\"Patience is a virtue\")\n",
    "    \n",
    "# AnonXarkA    "
   ]
  },
  {
   "cell_type": "code",
   "execution_count": null,
   "metadata": {},
   "outputs": [],
   "source": []
  }
 ],
 "metadata": {
  "kernelspec": {
   "display_name": "Python 3",
   "language": "python",
   "name": "python3"
  },
  "language_info": {
   "codemirror_mode": {
    "name": "ipython",
    "version": 3
   },
   "file_extension": ".py",
   "mimetype": "text/x-python",
   "name": "python",
   "nbconvert_exporter": "python",
   "pygments_lexer": "ipython3",
   "version": "3.8.8"
  }
 },
 "nbformat": 4,
 "nbformat_minor": 4
}
