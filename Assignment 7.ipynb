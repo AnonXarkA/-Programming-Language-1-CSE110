{
 "cells": [
  {
   "cell_type": "markdown",
   "metadata": {
    "colab_type": "text",
    "id": "oMYzsTcnHEll"
   },
   "source": [
    "# CSE110 Assignment 7\n",
    "\n",
    "\n",
    "## Write the Python code of the following problems:\n",
    "**<font color='red'>[MUST MAINTAIN VARIABLE NAMING CONVENTIONS FOR ALL THE TASKS]</font>**"
   ]
  },
  {
   "cell_type": "markdown",
   "metadata": {
    "colab_type": "text",
    "id": "jT-t2zlnHEll"
   },
   "source": [
    "### Task 1\n",
    "\n",
    "Given a list named my_list. <br/>\n",
    "my_list=[10,1,20,3,6,2,5,11,15,2,12,14,17,18,29] <br/>\n",
    "Now use bubble sort to sort my_list into ascending order.\n",
    "\n",
    "**Output**<br/>\n",
    "[1, 2, 2, 3, 5, 6, 10, 11, 12, 14, 15, 17, 18, 20, 29]"
   ]
  },
  {
   "cell_type": "code",
   "execution_count": 1,
   "metadata": {
    "colab": {},
    "colab_type": "code",
    "id": "7qXVakLgHElm"
   },
   "outputs": [
    {
     "name": "stdout",
     "output_type": "stream",
     "text": [
      "[1, 2, 2, 3, 5, 6, 10, 11, 12, 14, 15, 17, 18, 20, 29]\n"
     ]
    }
   ],
   "source": [
    "#todo\n",
    "my_list=[10,1,20,3,6,2,5,11,15,2,12,14,17,18,29]\n",
    "for value in range(len(my_list)-1,0,-1):\n",
    "    for num in range(value):\n",
    "        if my_list[num]> my_list[num+1]:\n",
    "            temp = my_list[num]\n",
    "            my_list[num] = my_list[num+1]\n",
    "            my_list[num+1] = temp\n",
    "print(my_list)"
   ]
  },
  {
   "cell_type": "markdown",
   "metadata": {
    "colab_type": "text",
    "id": "w1QgeWd2HElp"
   },
   "source": [
    "### Task 2\n",
    "\n",
    "Given a list named my_list. <br/>\n",
    "my_list=[10,1,20,3,6,2,5,11,15,2,12,14,17,18,29] <br/>\n",
    "Now use selection sort to sort my_list into ascending order.\n",
    "\n",
    "**Output**<br/>\n",
    "[1, 2, 2, 3, 5, 6, 10, 11, 12, 14, 15, 17, 18, 20, 29]\n",
    "\n"
   ]
  },
  {
   "cell_type": "code",
   "execution_count": 1,
   "metadata": {
    "colab": {},
    "colab_type": "code",
    "id": "am0B_8ICHElq"
   },
   "outputs": [
    {
     "name": "stdout",
     "output_type": "stream",
     "text": [
      "[1, 2, 2, 3, 5, 6, 10, 11, 12, 14, 15, 17, 18, 20, 29]\n"
     ]
    }
   ],
   "source": [
    "#todo\n",
    "my_list=[10,1,20,3,6,2,5,11,15,2,12,14,17,18,29]\n",
    "for index in range(len(my_list)):\n",
    "    min = my_list[index]\n",
    "    min_index = index\n",
    "    for x in range(index+1,len(my_list)):\n",
    "        if my_list[x] < min:\n",
    "            min = my_list[x]\n",
    "            min_index = x\n",
    "    #swap\n",
    "    my_list[index],my_list[min_index]=my_list[min_index],my_list[index]\n",
    "print(my_list)"
   ]
  },
  {
   "cell_type": "markdown",
   "metadata": {
    "colab_type": "text",
    "id": "j4ffr2CAHElt"
   },
   "source": [
    "### Task  3\n",
    "\n",
    "Given a list named my_list. <br/>\n",
    "my_list=[10,1,20,3,6,2,5,11,15,2,12,14,17,18,29] <br/>\n",
    "Now use any of the two sorts used above to sort the list in descending order.\n",
    "\n",
    "**Output**<br/>\n",
    "[29, 20, 18, 17, 15, 14, 12, 11, 10, 6, 5, 3, 2, 2, 1]\n"
   ]
  },
  {
   "cell_type": "code",
   "execution_count": 2,
   "metadata": {
    "colab": {},
    "colab_type": "code",
    "id": "n2X3YR-_HElt"
   },
   "outputs": [
    {
     "name": "stdout",
     "output_type": "stream",
     "text": [
      "[29, 20, 18, 17, 15, 14, 12, 11, 10, 6, 5, 3, 2, 2, 1]\n"
     ]
    }
   ],
   "source": [
    "#todo\n",
    "my_list=[10,1,20,3,6,2,5,11,15,2,12,14,17,18,29]\n",
    "for index in range(len(my_list)):\n",
    "    max = my_list[index]\n",
    "    max_index = index\n",
    "    for x in range(index+1,len(my_list)):\n",
    "        if my_list[x] > max:\n",
    "            max = my_list[x]\n",
    "            max_index = x\n",
    "    #swap\n",
    "    my_list[index],my_list[max_index]=my_list[max_index],my_list[index]\n",
    "print(my_list)"
   ]
  },
  {
   "cell_type": "markdown",
   "metadata": {
    "colab_type": "text",
    "id": "9iYiiTWWHElw"
   },
   "source": [
    "### Task 4\n",
    "\n",
    "Suppose you have a sitting arrangement of the students of the final exam in a list. The list contains the last two digits of their roll number.<br/>\n",
    "\n",
    "sitting_list=[10,30,20,70,11,15,22,16,58,100,12,56,70,80] <br/>\n",
    "\n",
    "Now you want to organize the sitting arrangement. You decided to sort all the students in the even indices into ascending order and all the students in the odd indices  into descending order.  <br/>\n",
    "\n",
    "So write a python program that organizes the list for you the way you decided.<br/>\n",
    "\n",
    "\n",
    "**Sample Output**<br/>\n",
    "[10, 100, 11, 80, 12, 70, 20, 56, 22, 30, 58, 16, 70, 15]"
   ]
  },
  {
   "cell_type": "code",
   "execution_count": 1,
   "metadata": {
    "colab": {},
    "colab_type": "code",
    "id": "nPdUAKDJHElw"
   },
   "outputs": [
    {
     "name": "stdout",
     "output_type": "stream",
     "text": [
      "[10, 100, 11, 80, 12, 70, 20, 56, 22, 30, 58, 16, 70, 15]\n"
     ]
    }
   ],
   "source": [
    "#todo\n",
    "sitting_list=[10,30,20,70,11,15,22,16,58,100,12,56,70,80]\n",
    "even_index = []\n",
    "odd_index = []\n",
    "final_list = []\n",
    "\n",
    "for val1 in range(len(sitting_list)):\n",
    "    if val1 % 2==0:\n",
    "        even_index.append(sitting_list[val1])\n",
    "    else:\n",
    "        odd_index.append(sitting_list[val1])\n",
    "\n",
    "for indx1 in range(len(even_index)):\n",
    "    max = even_index[indx1]\n",
    "    max_index = indx1\n",
    "    for i in range(indx1+1,len(even_index)):\n",
    "        if even_index[i] < max:\n",
    "            max = even_index[i]\n",
    "            max_index = i\n",
    "    even_index[indx1],even_index[max_index] = even_index[max_index],even_index[indx1]\n",
    "\n",
    "for indx2 in range(len(odd_index)):\n",
    "    min = odd_index[indx2]\n",
    "    min_index2 = indx2\n",
    "    for y in range(indx2+1,len(odd_index)):\n",
    "        if odd_index[y] > min:\n",
    "            min = odd_index[y]\n",
    "            min_index2 = y\n",
    "    odd_index[indx2],odd_index[min_index2]=odd_index[min_index2],odd_index[indx2]\n",
    "\n",
    "for x in range(len(even_index)):\n",
    "    final_list.append(even_index[x])\n",
    "    final_list.append(odd_index[x])\n",
    "\n",
    "print(final_list)\n"
   ]
  },
  {
   "cell_type": "markdown",
   "metadata": {
    "colab_type": "text",
    "id": "oVR1Tsa0HElz"
   },
   "source": [
    "### Task 5\n",
    "\n",
    "Suppose a list contains the final exam results of CSE110, PHY111, and MAT110 of each student in a listed form. Your task is to sort the list based on a course name that will be given by the user and print the names after sorting. <br/>\n",
    "\n",
    "For example, a list looks like <br/>\n",
    "Lst = [ [‘Farzad’,95,87,91] , [‘Mahjabin’,92,90,83], [‘Sadman’,87,92,80], [‘Nakhla’,85,94,90] ] <br/>\n",
    "where for each list, 1st index is name, 2nd index is CSE110, 3rd index is PHY111 and 4th index is MAT110. \n",
    "\n",
    "**Sample Input**<br/>\n",
    "MAT110\n",
    "\n",
    "**Sample Output**<br/>\n",
    "Farzad <br/>\n",
    "Nakhla <br/>\n",
    "Mahjabin <br/>\n",
    "Sadman\n",
    "\n",
    "**Hint:**<br/>\n",
    "Nested list can be accessed by listname[firstIndex][secondIndex] like lst[0][0] will give Farzad\n"
   ]
  },
  {
   "cell_type": "code",
   "execution_count": 3,
   "metadata": {
    "colab": {},
    "colab_type": "code",
    "id": "539b2P1NHElz"
   },
   "outputs": [
    {
     "name": "stdout",
     "output_type": "stream",
     "text": [
      "Enter Course Name: MAT110\n",
      "Farzad\n",
      "Nakhla\n",
      "Mahjabin\n",
      "Sadman\n"
     ]
    }
   ],
   "source": [
    "#todo\n",
    "name = input(\"Enter Course Name: \")\n",
    "def sorted(string):\n",
    "    subject=0\n",
    "    lst = [['Farzad', 95, 87, 91], ['Mahjabin', 92, 90, 83], ['Sadman', 87, 92, 80], ['Nakhla', 85, 94, 90]]\n",
    "    if string == \"CSE110\":\n",
    "        subject = 1\n",
    "    if string=='PHY110':\n",
    "        subject = 2\n",
    "    if string== \"MAT110\":\n",
    "        subject=3\n",
    "\n",
    "    name_list = []\n",
    "    sub_list = []\n",
    "    size = len(lst)\n",
    "    for val in range(size):\n",
    "        name_list.append(lst[val][0])\n",
    "        sub_list.append(lst[val][subject])\n",
    "    \n",
    "    dict ={}\n",
    "    sublist_size = len(sub_list)\n",
    "    for val in range(sublist_size):\n",
    "        dict[sub_list[val]] = name_list[val]\n",
    "    for val in range(sublist_size):\n",
    "        max_index = val\n",
    "        for n in range(val+1,sublist_size):\n",
    "            if sub_list[n]>sub_list[max_index]:\n",
    "                max_index=n\n",
    "        sub_list[val],sub_list[max_index]=sub_list[max_index],sub_list[val]\n",
    "    for val in range(sublist_size):\n",
    "        print(dict[sub_list[val]])\n",
    "sorted(name)"
   ]
  },
  {
   "cell_type": "markdown",
   "metadata": {
    "colab_type": "text",
    "id": "B0Rqbyi4HEl2"
   },
   "source": [
    "### Task 6\n",
    "\n",
    "Suppose you have a list named my_list. Your task is to sort the list and print the count of numbers that have changed their position. <br/>\n",
    "my_list = [4,2,3,1,6,5] <br/>\n",
    "Sorted list would be [1,2,3,4,5,6] where 4 numbers have changed their position.\n",
    "\n",
    "\n",
    "**Sample Output**<br/>\n",
    "4"
   ]
  },
  {
   "cell_type": "code",
   "execution_count": 5,
   "metadata": {
    "colab": {},
    "colab_type": "code",
    "id": "AMc8jAa7HEl2"
   },
   "outputs": [
    {
     "name": "stdout",
     "output_type": "stream",
     "text": [
      "4\n"
     ]
    }
   ],
   "source": [
    "my_list = [4,2,3,1,6,5]\n",
    "new_list = []\n",
    "count =0\n",
    "size = len(my_list)\n",
    "for val in my_list:\n",
    "    new_list.append(val)\n",
    "for num in range(size):\n",
    "    min_indx=num\n",
    "    for v in range(num+1,size):\n",
    "        if my_list[v]<my_list[min_indx]:\n",
    "            min_indx=v\n",
    "    my_list[num],my_list[min_indx]=my_list[min_indx],my_list[num]\n",
    "for x in range(size):\n",
    "    if my_list[x]!=new_list[x]:\n",
    "        count+=1\n",
    "    else:\n",
    "        continue\n",
    "print(count)"
   ]
  },
  {
   "cell_type": "markdown",
   "metadata": {
    "colab_type": "text",
    "id": "iIH5n0sJHEl5"
   },
   "source": [
    "### Task 7\n",
    "\n",
    "Write a python program that takes two lists from the user, merges the two lists, sorts the list, and find the median of the elements of the two lists.\n",
    "\n",
    "**Sample Input 1**<br/>\n",
    "list_one= [1,2,1,4] <br/>\n",
    "list_two= [5,4,1]\n",
    "\n",
    "\n",
    "**Sample Output 1**<br/>\n",
    "Sorted list= [1, 1, 1, 2, 4, 4, 5] <br/>\n",
    "Median = 2\n",
    "\n",
    "**Sample Input 2**<br/>\n",
    "list_one= [1,7,9,10] <br/>\n",
    "list_two= [2,7,6,5]\n",
    "\n",
    "\n",
    "**Sample Output 2**<br/>\n",
    "Sorted list=[1, 2, 5, 6, 7, 7, 9, 10] <br/>\n",
    "Median=6.5\n",
    "\n"
   ]
  },
  {
   "cell_type": "code",
   "execution_count": 3,
   "metadata": {
    "colab": {},
    "colab_type": "code",
    "id": "KsFxC7XbHEl6"
   },
   "outputs": [
    {
     "name": "stdout",
     "output_type": "stream",
     "text": [
      "Enter How many values in list1: 4\n",
      "Enter values: 1\n",
      "Enter values: 7\n",
      "Enter values: 9\n",
      "Enter values: 10\n",
      "Enter How many values in list2: 4\n",
      "Enter values: 2\n",
      "Enter values: 7\n",
      "Enter values: 6\n",
      "Enter values: 5\n",
      "Sorted list= [1, 2, 5, 6, 7, 7, 9, 10]\n",
      "Median= 6.5\n"
     ]
    }
   ],
   "source": [
    "#todo\n",
    "list_one = []\n",
    "list_two = []\n",
    "\n",
    "list_one_value = int(input(\"Enter How many values in list1: \"))\n",
    "for list1_val in range(list_one_value):\n",
    "    list1_value = int(input(\"Enter values: \"))\n",
    "    list_one.append(list1_value)\n",
    "list_two_value = int(input(\"Enter How many values in list2: \"))\n",
    "for list2_val in range(list_two_value):\n",
    "    list2_value = int(input(\"Enter values: \"))\n",
    "    list_two.append(list2_value)\n",
    "\n",
    "merge_list = list_one+list_two\n",
    "for num in range(len(merge_list)-1,0,-1):\n",
    "    for val in range(num):\n",
    "        if merge_list[val] > merge_list[val+1]:\n",
    "            temp = merge_list[val]\n",
    "            merge_list[val]=merge_list[val+1]\n",
    "            merge_list[val+1]=temp\n",
    "print(\"Sorted list=\",merge_list)\n",
    "\n",
    "sortedlist_len = len(merge_list)\n",
    "if sortedlist_len%2==0:\n",
    "    mid_indx1 = int(sortedlist_len/2)\n",
    "    mid_indx2 = int(mid_indx1-1)\n",
    "    median = (merge_list[mid_indx1]+merge_list[mid_indx2])/2\n",
    "    print(\"Median=\",median)\n",
    "else:\n",
    "    mid_indx = int((sortedlist_len-1)/2)\n",
    "    median = merge_list[mid_indx]\n",
    "    print(\"Median=\", median)"
   ]
  },
  {
   "cell_type": "markdown",
   "metadata": {
    "colab_type": "text",
    "id": "-XKiwBR1HEl8"
   },
   "source": [
    "### Task 8\n",
    "\n",
    "\n",
    "Write a python program that takes a list from user containing both positive and negative numbers. The program then finds two pairs of values whose summation is closest to zero.\n",
    "\n",
    "**Sample Input 1**<br/>\n",
    "list_one=[-10,15,2,4,-4,7,-8] \n",
    "\n",
    "\n",
    "**Sample Output 1**<br/>\n",
    "Two pairs which have the smallest sum = 4 and -4\n",
    "\n",
    "\n",
    "**Sample Input 2**<br/>\n",
    "list_one=[1,-8,4,-7,-20,26,70,-85]\n",
    "\n",
    "\n",
    "**Sample Output 2**<br/>\n",
    "Two pairs which have the smallest sum = 4 and -7"
   ]
  },
  {
   "cell_type": "code",
   "execution_count": 1,
   "metadata": {
    "colab": {},
    "colab_type": "code",
    "id": "5ORSGa5GHEl9"
   },
   "outputs": [
    {
     "name": "stdout",
     "output_type": "stream",
     "text": [
      "Enter How many values in list1: 7\n",
      "Enter values: -10\n",
      "Enter values: 15\n",
      "Enter values: 2\n",
      "Enter values: 4\n",
      "Enter values: -4\n",
      "Enter values: 7\n",
      "Enter values: -8\n",
      "list_one= [-10, 15, 2, 4, -4, 7, -8]\n",
      "Two pairs which have the smallest sum = 4 and -4 \n"
     ]
    }
   ],
   "source": [
    "#todo\n",
    "list_one = []\n",
    "\n",
    "list_one_value = int(input(\"Enter How many values in list1: \"))\n",
    "for list1_val in range(list_one_value):\n",
    "    list1_value = int(input(\"Enter values: \"))\n",
    "    list_one.append(list1_value)\n",
    "print(\"list_one=\",list_one)\n",
    "size = len(list_one)\n",
    "\n",
    "first_indx =0\n",
    "second_indx=1\n",
    "zero_sum = abs(list_one[first_indx]+list_one[second_indx])\n",
    "for num in range(0,size-1):\n",
    "    for val in range(num+1,size):\n",
    "        sum = abs(list_one[num]+list_one[val])\n",
    "        if zero_sum>sum:\n",
    "            zero_sum=sum\n",
    "            first_indx=num\n",
    "            second_indx=val\n",
    "print(f\"Two pairs which have the smallest sum = {list_one[first_indx]} and {list_one[second_indx]} \")\n",
    "\n",
    "\n",
    "# AnonXarkA"
   ]
  },
  {
   "cell_type": "code",
   "execution_count": null,
   "metadata": {},
   "outputs": [],
   "source": []
  }
 ],
 "metadata": {
  "colab": {
   "collapsed_sections": [],
   "name": "CSE110 Assignment07.ipynb",
   "provenance": []
  },
  "kernelspec": {
   "display_name": "Python 3",
   "language": "python",
   "name": "python3"
  },
  "language_info": {
   "codemirror_mode": {
    "name": "ipython",
    "version": 3
   },
   "file_extension": ".py",
   "mimetype": "text/x-python",
   "name": "python",
   "nbconvert_exporter": "python",
   "pygments_lexer": "ipython3",
   "version": "3.8.8"
  }
 },
 "nbformat": 4,
 "nbformat_minor": 1
}
