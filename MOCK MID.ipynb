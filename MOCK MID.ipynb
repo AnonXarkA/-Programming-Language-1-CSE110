{
 "cells": [
  {
   "cell_type": "markdown",
   "metadata": {
    "colab_type": "text",
    "id": "Kwu8wHqYjmrV"
   },
   "source": [
    "# SUMMER 2020\n",
    "\n",
    "# CSE110 MOCK MID\n",
    "**<font color='red'>[MUST MAINTAIN VARIABLE NAMING CONVENTIONS FOR ALL THE TASKS]</font>**\n",
    "\n",
    "**<font color='red'>[Writing comments(explanatory sentences) in any of the code is completely optional]</font>**\n"
   ]
  },
  {
   "cell_type": "markdown",
   "metadata": {
    "colab_type": "text",
    "id": "0k2FTLNHiV6N"
   },
   "source": [
    "# Task 01\n",
    "Write a python code that will take the power level (**in inetgers**) of an Avenger's member and then print the message accordingly.\n",
    "\n",
    "\n",
    "*   If the power is between 20 and 30 inclusive, your program should print **\"Iron Man! No special powers(Weak).\"**\n",
    "\n",
    "*   If the power is between 31 and 50 inclusive, your program should print **\"Spiderman! Has special Spidey sense\"**\n",
    "\n",
    "*   If the power is between 51 and 70 inclusive, your program should print **\"Thor! The strong avenger.\"**\n",
    "\n",
    "*   If the power is between 71 and 100 inclusive, your program should print **\"Hulk! The strongest avenger.\"**\n",
    "\n",
    "*   For all other input your program should print **\"Invalid power input\"**.\n",
    "\n",
    "\n",
    " ================================\n",
    "\n",
    "**Sample input 1:**\\\n",
    "16\n",
    "\n",
    "**Sample output 1:**\\\n",
    "Invalid power input\n",
    "\n",
    " ================================\n",
    "\n",
    "**Sample input 2:**\\\n",
    "52\n",
    "\n",
    "**Sample output 2:**\\\n",
    "Thor! The strong avenger."
   ]
  },
  {
   "cell_type": "markdown",
   "metadata": {
    "colab_type": "text",
    "id": "DTyavu6ijiy_"
   },
   "source": []
  },
  {
   "cell_type": "code",
   "execution_count": 4,
   "metadata": {
    "colab": {},
    "colab_type": "code",
    "id": "-uTlQu1iiV6P"
   },
   "outputs": [
    {
     "name": "stdout",
     "output_type": "stream",
     "text": [
      "enter powe value: 75\n",
      "Hulk!The strongest avenger\n"
     ]
    }
   ],
   "source": [
    "#task 1\n",
    "#to do\n",
    "\n",
    "p_value =int(input(\"enter powe value: \"))\n",
    "\n",
    "\n",
    "if p_value >= 20 and p_value <= 30:\n",
    "    print('Iron Man! No Special Powers(weak)')\n",
    "\n",
    "elif p_value >= 31 and p_value <= 50:\n",
    "    print('Spiderman!Has­ special Spidey sense')\n",
    "\n",
    "elif p_value >=51 and p_value <= 70:\n",
    "    print('Thor! The strong avenger')\n",
    "elif p_value >=71 and p_value <=100:\n",
    "    print('Hulk!The strongest avenger')\n",
    "else:\n",
    "    print('invalid power input')"
   ]
  },
  {
   "cell_type": "markdown",
   "metadata": {
    "colab_type": "text",
    "id": "0Ma4m1DkiV6X"
   },
   "source": [
    "# Task 02\n",
    "Take an integer number from the user and then print the **smallest digit** of that number.\n",
    "\n",
    "<font color='red'>[You are not allowed to use the max(), min(), sort(), sorted() functions here]</font>\n",
    "\n",
    "**Hint :**\\\n",
    "You may assume that the input number is a non negative number.\n",
    "\n",
    "\n",
    " ================================\n",
    "\n",
    "**Sample input 1:**\\\n",
    "4235\\\n",
    "Sample output 1:\\\n",
    "2\n",
    "\n",
    "*Explaination: 2 is the smallest digit in 4235*\n",
    " \n",
    "\n",
    "  ================================\n",
    "\n",
    "**Sample input 2:**\\\n",
    "70301\\\n",
    "Sample output 2:\\\n",
    "0\n",
    "\n",
    "*Explaination: 0 is the smallest digit in 70301*\n",
    "\n",
    "\n"
   ]
  },
  {
   "cell_type": "code",
   "execution_count": 5,
   "metadata": {
    "colab": {},
    "colab_type": "code",
    "id": "Hc39rI86iV6b"
   },
   "outputs": [
    {
     "name": "stdout",
     "output_type": "stream",
     "text": [
      "enter number :70301\n",
      "0\n"
     ]
    }
   ],
   "source": [
    "#task 2\n",
    "#to do\n",
    "\n",
    "enter_num =int(input(\"enter number :\"))\n",
    "string =str(enter_num)\n",
    "small= 99999999\n",
    "for num in range(len(string)):\n",
    "    s_num = int(string[num])\n",
    "    if s_num < small:\n",
    "        small = s_num\n",
    "print(small)"
   ]
  },
  {
   "cell_type": "markdown",
   "metadata": {
    "colab_type": "text",
    "id": "3yiKRH7liV6g"
   },
   "source": [
    "# Task 03\n",
    "Write the python code that takes a String from the user and print all the **uppercase letters** of that string. \n",
    "\n",
    "**Hint :**\\\n",
    "You might need to use ASCII values for checking upper cases and lower cases.\n",
    "\n",
    " ================================\n",
    " \n",
    "**Sample input 1:**\\\n",
    "I Want To go to the UNIVERSITY\n",
    "\n",
    "**Sample output 1**:\n",
    "IWTUNIVERSITY\n",
    "\n",
    "\n",
    "\n",
    "=================================\n",
    "\n",
    " \n",
    "**Sample input 2:**\\\n",
    "CSE110 is greEAT\n",
    "\n",
    "\n",
    "**Sample output 2:**\\\n",
    "CSEEAT"
   ]
  },
  {
   "cell_type": "code",
   "execution_count": 8,
   "metadata": {
    "colab": {},
    "colab_type": "code",
    "id": "cXSSmP0uiV6h"
   },
   "outputs": [
    {
     "name": "stdout",
     "output_type": "stream",
     "text": [
      "enter string:I Want To go to the UNIVERSITY\n",
      "IWTUNIVERSITY"
     ]
    }
   ],
   "source": [
    "#task 3\n",
    "#to do\n",
    "\n",
    "string_value = input(\"enter string:\")\n",
    "len_str = len(string_value)\n",
    "\n",
    "for value in range(len_str):\n",
    "    char = string_value[value]\n",
    "    num = ord(char)\n",
    "    if num >= 65 and num <= 90:\n",
    "        print(string_value[value], end=\"\")\n",
    "        \n",
    "        \n",
    "# AnonXarkA        "
   ]
  },
  {
   "cell_type": "code",
   "execution_count": null,
   "metadata": {},
   "outputs": [],
   "source": []
  }
 ],
 "metadata": {
  "colab": {
   "name": "cse110 mock mid [set 2].ipynb",
   "provenance": []
  },
  "kernelspec": {
   "display_name": "Python 3",
   "language": "python",
   "name": "python3"
  },
  "language_info": {
   "codemirror_mode": {
    "name": "ipython",
    "version": 3
   },
   "file_extension": ".py",
   "mimetype": "text/x-python",
   "name": "python",
   "nbconvert_exporter": "python",
   "pygments_lexer": "ipython3",
   "version": "3.8.8"
  }
 },
 "nbformat": 4,
 "nbformat_minor": 1
}
